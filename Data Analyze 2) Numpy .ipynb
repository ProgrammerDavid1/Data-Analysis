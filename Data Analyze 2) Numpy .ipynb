{
  "nbformat": 4,
  "nbformat_minor": 0,
  "metadata": {
    "colab": {
      "provenance": [],
      "include_colab_link": true
    },
    "kernelspec": {
      "name": "python3",
      "display_name": "Python 3"
    },
    "language_info": {
      "name": "python"
    }
  },
  "cells": [
    {
      "cell_type": "markdown",
      "metadata": {
        "id": "view-in-github",
        "colab_type": "text"
      },
      "source": [
        "<a href=\"https://colab.research.google.com/github/ProgrammerDavid1/Data-Analysis/blob/main/Data%20Analyze%202)%20Numpy%20.ipynb\" target=\"_parent\"><img src=\"https://colab.research.google.com/assets/colab-badge.svg\" alt=\"Open In Colab\"/></a>"
      ]
    },
    {
      "cell_type": "markdown",
      "source": [
        "# 데이터분석프로그래밍 4주차 실습"
      ],
      "metadata": {
        "id": "83k2WbS4rROf"
      }
    },
    {
      "cell_type": "markdown",
      "source": [
        "## 실습 시작 전 유의사항\n",
        "\n",
        "※ 반드시 상단 메뉴에서 '**파일 - 드라이브에 사본 저장**' 진행 후 시작하세요."
      ],
      "metadata": {
        "id": "1CXfTaxCFmvA"
      }
    },
    {
      "cell_type": "markdown",
      "source": [
        "## 실습 개요\n",
        "- Python 자료구조\n",
        "  - 리스트 인덱싱과 슬라이싱\n",
        "  - 2차원 리스트의 슬라이싱\n",
        "- Numpy Array\n",
        "  - Numpy의 슬라이싱\n",
        "  - array와 list의 연산 차이\n",
        "  - Boolean Indexing\n",
        "  - 크기 조절하기"
      ],
      "metadata": {
        "id": "_yRoUwTDIoH8"
      }
    },
    {
      "cell_type": "markdown",
      "source": [
        "---"
      ],
      "metadata": {
        "id": "fBW5t6eiFqLF"
      }
    },
    {
      "cell_type": "markdown",
      "source": [
        "## 리스트 인덱싱과 슬라이싱\n",
        "리스트의 원하는 요소에 접근하기 위해 인덱스를 사용하는 방법을 실습해보겠습니다.\\\n",
        "**`array[1]`**처럼 하나의 인덱스로 접근하는 것을 **인덱싱**,\\\n",
        "**`array[1:3]`**처럼 여러 개의 인덱스로 특정 범위에 접근하는 것을 **슬라이싱**이라고 합니다.\n",
        "\n",
        "**알아두면 좋은 정보)**\n",
        "- 음의 인덱스는 리스트를 뒤집은 방향으로 접근시켜주는 역할을 한다.\\\n",
        "  ex) **`array[-2:]`** : 리스트의 맨 뒤 2개만 추출\n",
        "\n",
        "- **`array[0:10:2]`**처럼 숫자를 하나 더 추가하면 몇 칸씩 건너 뛰어서 추출할 지 step을 정해줄 수 있다.\n",
        "\n",
        "<br>\n",
        "\n",
        "---\n",
        "**TODO)**\n",
        "\n",
        "다음 설명을 읽고 split_list 함수를 구현해봅시다.\n",
        "```\n",
        "split_list(array) 함수는 임의의 리스트 array를 매개변수로 받아서\n",
        "맨 처음 값과 맨 마지막 값, 그리고 나머지 중간 값으로 분리해주는 함수입니다.\n",
        "\n",
        "예시)\n",
        "array = [a, b, c, d, e]\n",
        "result = split_list(array)\n",
        "\n",
        "-> result: a, [b, c, d], e\n",
        "```"
      ],
      "metadata": {
        "id": "7sfXNQ3WrVNy"
      }
    },
    {
      "cell_type": "code",
      "source": [
        "def split_list(array):\n",
        "  first_element = array[0]\n",
        "  last_element = array[-1]\n",
        "  middle_element = array[1:-1]\n",
        "\n",
        "  return first_element, middle_element, last_element"
      ],
      "metadata": {
        "id": "lVIeh590zMw3"
      },
      "execution_count": null,
      "outputs": []
    },
    {
      "cell_type": "code",
      "source": [
        "# 함수의 결과값을 하나의 변수(result)에 받는 경우\n",
        "array_5 = [1, 2, 3, 4, 5]\n",
        "result = split_list(array_5)\n",
        "print(\"함수 결과:\", result)\n",
        "print(\"result의 타입:\", type(result))\n",
        "print()\n",
        "\n",
        "# 함수의 결과값을 여러 개의 변수에 받는 경우 (언패킹)\n",
        "array_ab = ['a', 'b']\n",
        "first, middle, last = split_list(array_ab)\n",
        "print(\"처음 값:\", first)\n",
        "print(\"중간 값:\", middle)\n",
        "print(\"마지막 값:\", last)\n",
        "print()\n",
        "\n",
        "# 불필요한 값을 무시하는 방법\n",
        "array_7 = [ 1, 2, 3, 4, 5, 6, 7 ]\n",
        "front, _, back = split_list(array_7)\n",
        "print(\"처음 값:\", front)\n",
        "print(\"마지막 값:\", back)"
      ],
      "metadata": {
        "id": "yqHFiUjEUQTR",
        "colab": {
          "base_uri": "https://localhost:8080/"
        },
        "outputId": "920ad285-f6fd-4e14-f5ef-3132d0803959"
      },
      "execution_count": null,
      "outputs": [
        {
          "output_type": "stream",
          "name": "stdout",
          "text": [
            "함수 결과: (1, [2, 3, 4], 5)\n",
            "result의 타입: <class 'tuple'>\n",
            "\n",
            "처음 값: a\n",
            "중간 값: []\n",
            "마지막 값: b\n",
            "\n",
            "처음 값: 1\n",
            "마지막 값: 7\n"
          ]
        }
      ]
    },
    {
      "cell_type": "markdown",
      "source": [
        "## 2차원 리스트의 슬라이싱\n",
        "arr2D에는 4x4 크기의 **2차원 리스트**가 담겨있습니다.\n",
        "\n",
        "1차원 리스트 때와 마찬가지로 슬라이싱을 할 수 있지만, 슬라이싱 결과가 똑같이 2차원이어서\\\n",
        "가운데 두 개의 **세로줄**을 가져오기 위해서는 새로운 접근이 필요합니다.\n",
        "\n",
        "코드 초반부의 arr2D를 출력하는 for문과 출력 결과를 참고하시길 바랍니다."
      ],
      "metadata": {
        "id": "-k2DMoXmwqJu"
      }
    },
    {
      "cell_type": "code",
      "source": [
        "arr2D = [[ 0,  1,  1,  0],\n",
        "         [ 3,  8,  8,  3],\n",
        "         [ 3,  8,  8,  3],\n",
        "         [ 0,  1,  1,  0]]\n",
        "\n",
        "print(\"원본 리스트: \")\n",
        "for row in arr2D:\n",
        "  print(row)\n",
        "print()\n",
        "\n",
        "middle_rows = arr2D[ 1:3 ]\n",
        "print(f\"가운데 두 가로줄: {middle_rows}\\n\")\n",
        "\n",
        "middle_columns = []\n",
        "for row in arr2D:\n",
        "  middle_columns.append(row[1:3])\n",
        "print(f\"가운데 두 세로줄: {middle_columns}\\n\")"
      ],
      "metadata": {
        "id": "MfOJpZ8kG7L2",
        "colab": {
          "base_uri": "https://localhost:8080/"
        },
        "outputId": "a35d10cc-7bc0-4506-97fc-95b266672874"
      },
      "execution_count": null,
      "outputs": [
        {
          "output_type": "stream",
          "name": "stdout",
          "text": [
            "원본 리스트: \n",
            "[0, 1, 1, 0]\n",
            "[3, 8, 8, 3]\n",
            "[3, 8, 8, 3]\n",
            "[0, 1, 1, 0]\n",
            "\n",
            "가운데 두 가로줄: [[3, 8, 8, 3], [3, 8, 8, 3]]\n",
            "\n",
            "가운데 두 세로줄: [[1, 1], [8, 8], [8, 8], [1, 1]]\n",
            "\n"
          ]
        }
      ]
    },
    {
      "cell_type": "markdown",
      "source": [
        "## NumPy의 슬라이싱\n",
        "npArr2D에는 4x4 크기의 **numpy array**가 담겨있습니다.\n",
        "\n",
        "기본 자료구조 리스트와는 다르게 **동시에 여러 차원의 인덱싱**이 가능해집니다.\n",
        "\n",
        "리스트에서 특정 행과 특정 열의 값을 가져오려면 arr2D[1][2]과 같이 두 번의 인덱싱을 거쳐야했지만,\\\n",
        "np.array에서는 npArr2D[1, 2]처럼 **콤마**를 통해 한 번에 여러 차원의 접근할 수 있습니다.\n",
        "\n",
        "이런 방식은 **슬라이싱**도 마찬가지입니다.\\\n",
        "이를 이용해서 궁극적으로는 **중앙 2x2의 값들**을 출력해보도록 합시다."
      ],
      "metadata": {
        "id": "oZ5ficCuesaJ"
      }
    },
    {
      "cell_type": "code",
      "source": [
        "import numpy as np\n",
        "\n",
        "npArr2D = np.array([[ 0,  1,  1,  0],\n",
        "                    [ 3,  8,  8,  3],\n",
        "                    [ 3,  8,  8,  3],\n",
        "                    [ 0,  1,  1,  0]])\n",
        "\n",
        "print(\"원본 리스트: \", npArr2D, '', sep='\\n')\n",
        "\n",
        "middle_rows = npArr2D[1:3]\n",
        "print(\"가운데 두 가로줄:\", middle_rows, '', sep='\\n')\n",
        "\n",
        "middle_columns = npArr2D[ :, 1:3 ]\n",
        "print(\"가운데 두 세로줄:\", middle_columns, '', sep='\\n')\n",
        "\n",
        "middle_2x2 = npArr2D[ 1:3 , 1:3 ]\n",
        "print(\"가운데 2x2 칸:\", middle_2x2, '', sep='\\n')"
      ],
      "metadata": {
        "id": "wn1odvElJsKp",
        "colab": {
          "base_uri": "https://localhost:8080/"
        },
        "outputId": "bdc35eb5-f1b8-43ed-cf02-872fc64238d9"
      },
      "execution_count": null,
      "outputs": [
        {
          "output_type": "stream",
          "name": "stdout",
          "text": [
            "원본 리스트: \n",
            "[[0 1 1 0]\n",
            " [3 8 8 3]\n",
            " [3 8 8 3]\n",
            " [0 1 1 0]]\n",
            "\n",
            "가운데 두 가로줄:\n",
            "[[3 8 8 3]\n",
            " [3 8 8 3]]\n",
            "\n",
            "가운데 두 세로줄:\n",
            "[[1 1]\n",
            " [8 8]\n",
            " [8 8]\n",
            " [1 1]]\n",
            "\n",
            "가운데 2x2 칸:\n",
            "[[8 8]\n",
            " [8 8]]\n",
            "\n"
          ]
        }
      ]
    },
    {
      "cell_type": "markdown",
      "source": [
        "## Numpy array와 list의 연산 차이\n",
        "Numpy의 array는 list와는 다르게 유용한 연산자들을 제공합니다.\n",
        "\n",
        "list에서는 할 수 없었던 일들을 가능하게 해주어 여러 복잡한 과정들을 간결하게 해줍니다.\n"
      ],
      "metadata": {
        "id": "1bXY3WLzg4ps"
      }
    },
    {
      "cell_type": "code",
      "source": [
        "listA = [1, 2, 3]\n",
        "listB = [4, 5, 6]\n",
        "\n",
        "# list와 상수간의 연산\n",
        "# print(listA + 5) # 불가능\n",
        "print(listA * 3)\n",
        "\n",
        "# list와 list간의 연산\n",
        "print(listA + listB)\n",
        "# print(listA - listB, listA * listB, listA / listB) # 불가능"
      ],
      "metadata": {
        "id": "O4N87-d1hxI2",
        "colab": {
          "base_uri": "https://localhost:8080/"
        },
        "outputId": "8af16204-871e-4e3c-e3e9-fe6f3ead7957"
      },
      "execution_count": null,
      "outputs": [
        {
          "output_type": "stream",
          "name": "stdout",
          "text": [
            "[1, 2, 3, 1, 2, 3, 1, 2, 3]\n",
            "[1, 2, 3, 4, 5, 6]\n"
          ]
        }
      ]
    },
    {
      "cell_type": "code",
      "source": [
        "arrA = np.array([1, 2, 3])\n",
        "arrB = np.array([4, 5, 6])\n",
        "\n",
        "# array와 상수간의 연산\n",
        "print(f'상수 합: {arrA + 5}')\n",
        "print(f'상수 곱: {arrA * 3}')\n",
        "\n",
        "# array와 array간의 연산\n",
        "print(f'array간의 합: {arrA + arrB}')\n",
        "print(f'array간의 뺄셈: {arrA - arrB}')\n",
        "print(f'array간의 곱셈: {arrA * arrB}')\n",
        "print(f'array간의 나눗셈: {arrA / arrB}')"
      ],
      "metadata": {
        "id": "l5GF5QKDg5Ja",
        "colab": {
          "base_uri": "https://localhost:8080/"
        },
        "outputId": "e6044106-0b32-46ff-ef98-04cf322f4bcb"
      },
      "execution_count": null,
      "outputs": [
        {
          "output_type": "stream",
          "name": "stdout",
          "text": [
            "상수 합: [6 7 8]\n",
            "상수 곱: [3 6 9]\n",
            "array간의 합: [5 7 9]\n",
            "array간의 뺄셈: [-3 -3 -3]\n",
            "array간의 곱셈: [ 4 10 18]\n",
            "array간의 나눗셈: [0.25 0.4  0.5 ]\n"
          ]
        }
      ]
    },
    {
      "cell_type": "markdown",
      "source": [
        "## Numpy array의 Boolean Indexing\n",
        "array는 위의 산술 연산자 뿐만 아니라 논리 연산자도 사용할 수 있습니다.\n",
        "\n",
        "논리 연산의 결과로는 True와 False로 이뤄진 array가 생길 것입니다."
      ],
      "metadata": {
        "id": "BksEzzoKiYmb"
      }
    },
    {
      "cell_type": "code",
      "source": [
        "import numpy as np\n",
        "\n",
        "npArr = np.array([3, 6, 10, 2, 5, 9, 7, 11])\n",
        "\n",
        "mask_even = npArr % 2 == 0\n",
        "print(\"각 요소가 짝수인지 여부:\", mask_even)"
      ],
      "metadata": {
        "id": "fQZcpeIVxMEn",
        "colab": {
          "base_uri": "https://localhost:8080/"
        },
        "outputId": "04e81132-2e3c-44b3-ed3a-ff80d3323cb9"
      },
      "execution_count": null,
      "outputs": [
        {
          "output_type": "stream",
          "name": "stdout",
          "text": [
            "각 요소가 짝수인지 여부: [False  True  True  True False False False False]\n"
          ]
        }
      ]
    },
    {
      "cell_type": "markdown",
      "source": [
        "이것을 일종의 마스크(필터)처럼 이용하면 array의 특정 값만 뽑아낼 수 있습니다.\\\n",
        "이를 boolean 값을 이용한 인덱싱이라고 하여, Boolean Indexing이라고 부릅니다.\n",
        "\n",
        "해당 실습에서, 각각의 값이 짝수가 맞는지를 나타내는 마스크를 만들어보고,\\\n",
        "그 마스크로 인덱싱을 하여 짝수 값들만 뽑아보도록 하겠습니다."
      ],
      "metadata": {
        "id": "YlRIrPIMxUqR"
      }
    },
    {
      "cell_type": "code",
      "source": [
        "even_array = npArr[mask_even] #wow 신기하다\n",
        "print(\"array의 짝수 값들:\", even_array)"
      ],
      "metadata": {
        "id": "uU4wkrzXiWjq",
        "colab": {
          "base_uri": "https://localhost:8080/"
        },
        "outputId": "85eb102f-3c1e-43a5-88f1-29502363f694"
      },
      "execution_count": null,
      "outputs": [
        {
          "output_type": "stream",
          "name": "stdout",
          "text": [
            "array의 짝수 값들: [ 6 10  2]\n"
          ]
        }
      ]
    },
    {
      "cell_type": "markdown",
      "source": [
        "## 크기 조절하기\n",
        "array를 이용할 때에는, 때때로 연산을 위해 크기를 조절해야하는 경우가 생깁니다.\n",
        "\n",
        "해당 실습에서는 array의 크기를 조절할 수 있는 여러 함수들을 소개하겠습니다.\n",
        "\n",
        "- **`arr.shape`**: arr의 크기를 알려줍니다.\n",
        "\n",
        "- **`arr.reshape(shape)`**: arr가 shape 크기로 변형된 결과를 반환합니다.\\\n",
        "새로운 shape는 원본 shape에서 변형될 수 있는 값이어야 합니다.\n",
        "\n",
        "- **`np.resize(arr, shape)`**: arr가 shape 크기로 변경된 결과를 반환합니다.\n",
        "\n",
        "- **`arr.flatten()`**: 다차원의 arr가 1차원으로 펼쳐진 결과를 반환합니다.\n",
        "\n",
        "<br>\n",
        "\n",
        "**알아두면 좋은 정보)**\n",
        "\n",
        "array의 shape는 특수하게 -1이라는 값을 사용할 수 있습니다.\n",
        "\n",
        "shape에서 -1 값은 \"자동으로 계산되어 채워지는 크기\"를 의미합니다.\n",
        "\n",
        "(2×△) 크기의 array로 만들고 싶은데 △ 값을 모르겠는 경우,\\\n",
        "-1로 채워주면 자동으로 알아내어 채워줍니다."
      ],
      "metadata": {
        "id": "KMQLm-8fmk4n"
      }
    },
    {
      "cell_type": "code",
      "source": [
        "import numpy as np\n",
        "\n",
        "arr = np.array([[ 1,  2,  3,  4,  5,  6 ],\n",
        "                [ 7,  8,  9, 10, 11, 12]])\n",
        "\n",
        "print(f'원본:\\n{arr}\\n')\n",
        "\n",
        "arr_a = arr.reshape((3, 4))\n",
        "print(f'3x4 크기로 변형:\\n{arr_a}\\n') #새로운 shape는 원본 shape에서 변형될 수 있는 값이어야 합니다\n",
        "\n",
        "#arr_b = arr.reshape((3, 3))   # 불가능\n",
        "\n",
        "arr_c = np.resize(arr, (3, 3))  #resize는 강제로 만든다\n",
        "print(f'3x3 크기로 축소:\\n{arr_c}\\n')\n",
        "\n",
        "arr_d = np.reshape(arr, (-1, 2))\n",
        "print(f'△x2 크기로 변형:\\n{arr_d}\\n')"
      ],
      "metadata": {
        "id": "f508KFpIq6tl",
        "colab": {
          "base_uri": "https://localhost:8080/"
        },
        "outputId": "0ff1fd3b-a969-4c59-85d9-db902f74e60a"
      },
      "execution_count": null,
      "outputs": [
        {
          "output_type": "stream",
          "name": "stdout",
          "text": [
            "원본:\n",
            "[[ 1  2  3  4  5  6]\n",
            " [ 7  8  9 10 11 12]]\n",
            "\n",
            "3x4 크기로 변형:\n",
            "[[ 1  2  3  4]\n",
            " [ 5  6  7  8]\n",
            " [ 9 10 11 12]]\n",
            "\n",
            "3x3 크기로 축소:\n",
            "[[1 2 3]\n",
            " [4 5 6]\n",
            " [7 8 9]]\n",
            "\n",
            "△x2 크기로 변형:\n",
            "[[ 1  2]\n",
            " [ 3  4]\n",
            " [ 5  6]\n",
            " [ 7  8]\n",
            " [ 9 10]\n",
            " [11 12]]\n",
            "\n"
          ]
        }
      ]
    },
    {
      "cell_type": "markdown",
      "source": [
        "---\n",
        "\n",
        "**TODO)**\n",
        "아래 출력을 보고 코드를 완성해봅시다."
      ],
      "metadata": {
        "id": "KzfXrEhpq8s_"
      }
    },
    {
      "cell_type": "code",
      "source": [
        "'''\n",
        "<정리>\n",
        "- reshape는 원본 arr의 크기로 만들 수 있을 때 사용. 범위를 넘어가면 오류\n",
        "- resize는 강제로 변형시키는 것이기 때문에, 범위 넘어가도 상관 x\n",
        "<문법>\n",
        "- resize: np.resize(arr,shape)       arr가 shape 크기로 변경된 결과를 반환합니다. 넘파이.resize(arr,변경하고 싶은 크기)\n",
        "- reshape: arr.reshape(shape)        arr가 shape 크기로 변형된 결과를 반환합니다. arr.reshape(크기)\n",
        "'''\n",
        "\n",
        "import numpy as np\n",
        "\n",
        "arr = np.array([[ 1,  2,  3,  4],\n",
        "                 [ 5,  6,  7,  8],\n",
        "                 [ 9, 10, 11, 12]])\n",
        "print(\"원본 크기:\", arr.shape)\n",
        "print()\n",
        "\n",
        "arr1 = np.resize(arr,(4,4))\n",
        "print(f\"4x4로 확장:\\n{arr1}\\n\")\n",
        "\n",
        "arr2 = np.resize(arr,(2,2,3))   #arr.reshape(2,2,3) 으로 알려주심\n",
        "print(f\"2x2x3 크기로 변형:\\n{arr2}\\n\")\n",
        "\n",
        "arr3 = arr.reshape(4,-1)\n",
        "print(f\"4x△ 크기로 변형:\\n{arr3}\\n\")\n",
        "\n",
        "arr4 = arr.flatten()\n",
        "print(f\"flatten:\\n{arr4}\\n\")\n",
        "\n",
        "arr5 = arr.reshape(-1)\n",
        "print(f\"-1을 이용하여 1차원 array로 변형:\\n{arr5}\\n\")"
      ],
      "metadata": {
        "id": "RII9ynx1nFRG",
        "colab": {
          "base_uri": "https://localhost:8080/"
        },
        "outputId": "dcef889e-c232-4b21-c640-dbd7e67f5561"
      },
      "execution_count": null,
      "outputs": [
        {
          "output_type": "stream",
          "name": "stdout",
          "text": [
            "원본 크기: (3, 4)\n",
            "\n",
            "4x4로 확장:\n",
            "[[ 1  2  3  4]\n",
            " [ 5  6  7  8]\n",
            " [ 9 10 11 12]\n",
            " [ 1  2  3  4]]\n",
            "\n",
            "2x2x3 크기로 변형:\n",
            "[[[ 1  2  3]\n",
            "  [ 4  5  6]]\n",
            "\n",
            " [[ 7  8  9]\n",
            "  [10 11 12]]]\n",
            "\n",
            "4x△ 크기로 변형:\n",
            "[[ 1  2  3]\n",
            " [ 4  5  6]\n",
            " [ 7  8  9]\n",
            " [10 11 12]]\n",
            "\n",
            "flatten:\n",
            "[ 1  2  3  4  5  6  7  8  9 10 11 12]\n",
            "\n",
            "-1을 이용하여 1차원 array로 변형:\n",
            "[ 1  2  3  4  5  6  7  8  9 10 11 12]\n",
            "\n"
          ]
        }
      ]
    },
    {
      "cell_type": "markdown",
      "source": [
        "## 실습 종료 전 유의사항\n",
        "\n",
        "※ 완료 시 우측 상단 프로필 옆 '**공유 - 액세스를 *링크가 있는 모든 사용자*로 전환**' 후 복사한 링크를 이루리 과제 란에 업로드 하세요.\n",
        "\n",
        "<img src=\"https://i-cubic-i.notion.site/image/https%3A%2F%2Fprod-files-secure.s3.us-west-2.amazonaws.com%2F725049b7-a462-4874-83d3-8d8fc3092f85%2F9e740721-91aa-4643-aeb1-e6c29aa7ff1f%2F%25EC%2595%25A1%25EC%2584%25B8%25EC%258A%25A4_%25EC%2584%25A4%25EC%25A0%2595.png?table=block&id=503f4d91-92ad-4768-a049-e7e926ef5871&spaceId=725049b7-a462-4874-83d3-8d8fc3092f85&width=1030\" height=300>\n",
        "\n",
        "</br>\n",
        "\n",
        "※ 추가로 상단 메뉴 '**파일 - 다운로드 - .ipynb**' 로 다운로드 후 첨부 파일로 업로드 하세요.\n",
        "\n",
        "※ 즉, 과제의 텍스트란에는 링크를, 파일 첨부란에는 .ipynb 파일을 제출하십시오."
      ],
      "metadata": {
        "id": "spCFPqfKNFwR"
      }
    }
  ]
}