{
  "nbformat": 4,
  "nbformat_minor": 0,
  "metadata": {
    "colab": {
      "provenance": [],
      "include_colab_link": true
    },
    "kernelspec": {
      "name": "python3",
      "display_name": "Python 3"
    },
    "language_info": {
      "name": "python"
    },
    "widgets": {
      "application/vnd.jupyter.widget-state+json": {
        "540d634963164e68b28400d50dfd876d": {
          "model_module": "@jupyter-widgets/controls",
          "model_name": "HBoxModel",
          "model_module_version": "1.5.0",
          "state": {
            "_dom_classes": [],
            "_model_module": "@jupyter-widgets/controls",
            "_model_module_version": "1.5.0",
            "_model_name": "HBoxModel",
            "_view_count": null,
            "_view_module": "@jupyter-widgets/controls",
            "_view_module_version": "1.5.0",
            "_view_name": "HBoxView",
            "box_style": "",
            "children": [
              "IPY_MODEL_919f2e6751b8404d8638808a8f17e4b4",
              "IPY_MODEL_449003c5cfae47d28839b169c20492b6",
              "IPY_MODEL_babd012f376a4d82a73d604680adc315"
            ],
            "layout": "IPY_MODEL_10b8a3c85a0e4e2a8194a5fca4b4f397"
          }
        },
        "919f2e6751b8404d8638808a8f17e4b4": {
          "model_module": "@jupyter-widgets/controls",
          "model_name": "HTMLModel",
          "model_module_version": "1.5.0",
          "state": {
            "_dom_classes": [],
            "_model_module": "@jupyter-widgets/controls",
            "_model_module_version": "1.5.0",
            "_model_name": "HTMLModel",
            "_view_count": null,
            "_view_module": "@jupyter-widgets/controls",
            "_view_module_version": "1.5.0",
            "_view_name": "HTMLView",
            "description": "",
            "description_tooltip": null,
            "layout": "IPY_MODEL_6182ce1953114f849701c11a8acd89bb",
            "placeholder": "​",
            "style": "IPY_MODEL_c8348f53ea374d6ea6d937918694c437",
            "value": "무한 반복 중... :  70%"
          }
        },
        "449003c5cfae47d28839b169c20492b6": {
          "model_module": "@jupyter-widgets/controls",
          "model_name": "FloatProgressModel",
          "model_module_version": "1.5.0",
          "state": {
            "_dom_classes": [],
            "_model_module": "@jupyter-widgets/controls",
            "_model_module_version": "1.5.0",
            "_model_name": "FloatProgressModel",
            "_view_count": null,
            "_view_module": "@jupyter-widgets/controls",
            "_view_module_version": "1.5.0",
            "_view_name": "ProgressView",
            "bar_style": "danger",
            "description": "",
            "description_tooltip": null,
            "layout": "IPY_MODEL_08b4ff91a35e401d97626456f004816c",
            "max": 10,
            "min": 0,
            "orientation": "horizontal",
            "style": "IPY_MODEL_6cd848b1e98f4766a63730a32aec8f1d",
            "value": 7
          }
        },
        "babd012f376a4d82a73d604680adc315": {
          "model_module": "@jupyter-widgets/controls",
          "model_name": "HTMLModel",
          "model_module_version": "1.5.0",
          "state": {
            "_dom_classes": [],
            "_model_module": "@jupyter-widgets/controls",
            "_model_module_version": "1.5.0",
            "_model_name": "HTMLModel",
            "_view_count": null,
            "_view_module": "@jupyter-widgets/controls",
            "_view_module_version": "1.5.0",
            "_view_name": "HTMLView",
            "description": "",
            "description_tooltip": null,
            "layout": "IPY_MODEL_31b8de4097c54d55bda16b32832e7811",
            "placeholder": "​",
            "style": "IPY_MODEL_87a32ceb166f49d7815e6193edf3286a",
            "value": " 7/10 [00:00&lt;00:00,  9.74it/s]"
          }
        },
        "10b8a3c85a0e4e2a8194a5fca4b4f397": {
          "model_module": "@jupyter-widgets/base",
          "model_name": "LayoutModel",
          "model_module_version": "1.2.0",
          "state": {
            "_model_module": "@jupyter-widgets/base",
            "_model_module_version": "1.2.0",
            "_model_name": "LayoutModel",
            "_view_count": null,
            "_view_module": "@jupyter-widgets/base",
            "_view_module_version": "1.2.0",
            "_view_name": "LayoutView",
            "align_content": null,
            "align_items": null,
            "align_self": null,
            "border": null,
            "bottom": null,
            "display": "inline-flex",
            "flex": null,
            "flex_flow": "row wrap",
            "grid_area": null,
            "grid_auto_columns": null,
            "grid_auto_flow": null,
            "grid_auto_rows": null,
            "grid_column": null,
            "grid_gap": null,
            "grid_row": null,
            "grid_template_areas": null,
            "grid_template_columns": null,
            "grid_template_rows": null,
            "height": null,
            "justify_content": null,
            "justify_items": null,
            "left": null,
            "margin": null,
            "max_height": null,
            "max_width": null,
            "min_height": null,
            "min_width": null,
            "object_fit": null,
            "object_position": null,
            "order": null,
            "overflow": null,
            "overflow_x": null,
            "overflow_y": null,
            "padding": null,
            "right": null,
            "top": null,
            "visibility": null,
            "width": "500px"
          }
        },
        "6182ce1953114f849701c11a8acd89bb": {
          "model_module": "@jupyter-widgets/base",
          "model_name": "LayoutModel",
          "model_module_version": "1.2.0",
          "state": {
            "_model_module": "@jupyter-widgets/base",
            "_model_module_version": "1.2.0",
            "_model_name": "LayoutModel",
            "_view_count": null,
            "_view_module": "@jupyter-widgets/base",
            "_view_module_version": "1.2.0",
            "_view_name": "LayoutView",
            "align_content": null,
            "align_items": null,
            "align_self": null,
            "border": null,
            "bottom": null,
            "display": null,
            "flex": null,
            "flex_flow": null,
            "grid_area": null,
            "grid_auto_columns": null,
            "grid_auto_flow": null,
            "grid_auto_rows": null,
            "grid_column": null,
            "grid_gap": null,
            "grid_row": null,
            "grid_template_areas": null,
            "grid_template_columns": null,
            "grid_template_rows": null,
            "height": null,
            "justify_content": null,
            "justify_items": null,
            "left": null,
            "margin": null,
            "max_height": null,
            "max_width": null,
            "min_height": null,
            "min_width": null,
            "object_fit": null,
            "object_position": null,
            "order": null,
            "overflow": null,
            "overflow_x": null,
            "overflow_y": null,
            "padding": null,
            "right": null,
            "top": null,
            "visibility": null,
            "width": null
          }
        },
        "c8348f53ea374d6ea6d937918694c437": {
          "model_module": "@jupyter-widgets/controls",
          "model_name": "DescriptionStyleModel",
          "model_module_version": "1.5.0",
          "state": {
            "_model_module": "@jupyter-widgets/controls",
            "_model_module_version": "1.5.0",
            "_model_name": "DescriptionStyleModel",
            "_view_count": null,
            "_view_module": "@jupyter-widgets/base",
            "_view_module_version": "1.2.0",
            "_view_name": "StyleView",
            "description_width": ""
          }
        },
        "08b4ff91a35e401d97626456f004816c": {
          "model_module": "@jupyter-widgets/base",
          "model_name": "LayoutModel",
          "model_module_version": "1.2.0",
          "state": {
            "_model_module": "@jupyter-widgets/base",
            "_model_module_version": "1.2.0",
            "_model_name": "LayoutModel",
            "_view_count": null,
            "_view_module": "@jupyter-widgets/base",
            "_view_module_version": "1.2.0",
            "_view_name": "LayoutView",
            "align_content": null,
            "align_items": null,
            "align_self": null,
            "border": null,
            "bottom": null,
            "display": null,
            "flex": "2",
            "flex_flow": null,
            "grid_area": null,
            "grid_auto_columns": null,
            "grid_auto_flow": null,
            "grid_auto_rows": null,
            "grid_column": null,
            "grid_gap": null,
            "grid_row": null,
            "grid_template_areas": null,
            "grid_template_columns": null,
            "grid_template_rows": null,
            "height": null,
            "justify_content": null,
            "justify_items": null,
            "left": null,
            "margin": null,
            "max_height": null,
            "max_width": null,
            "min_height": null,
            "min_width": null,
            "object_fit": null,
            "object_position": null,
            "order": null,
            "overflow": null,
            "overflow_x": null,
            "overflow_y": null,
            "padding": null,
            "right": null,
            "top": null,
            "visibility": null,
            "width": null
          }
        },
        "6cd848b1e98f4766a63730a32aec8f1d": {
          "model_module": "@jupyter-widgets/controls",
          "model_name": "ProgressStyleModel",
          "model_module_version": "1.5.0",
          "state": {
            "_model_module": "@jupyter-widgets/controls",
            "_model_module_version": "1.5.0",
            "_model_name": "ProgressStyleModel",
            "_view_count": null,
            "_view_module": "@jupyter-widgets/base",
            "_view_module_version": "1.2.0",
            "_view_name": "StyleView",
            "bar_color": null,
            "description_width": ""
          }
        },
        "31b8de4097c54d55bda16b32832e7811": {
          "model_module": "@jupyter-widgets/base",
          "model_name": "LayoutModel",
          "model_module_version": "1.2.0",
          "state": {
            "_model_module": "@jupyter-widgets/base",
            "_model_module_version": "1.2.0",
            "_model_name": "LayoutModel",
            "_view_count": null,
            "_view_module": "@jupyter-widgets/base",
            "_view_module_version": "1.2.0",
            "_view_name": "LayoutView",
            "align_content": null,
            "align_items": null,
            "align_self": null,
            "border": null,
            "bottom": null,
            "display": null,
            "flex": null,
            "flex_flow": null,
            "grid_area": null,
            "grid_auto_columns": null,
            "grid_auto_flow": null,
            "grid_auto_rows": null,
            "grid_column": null,
            "grid_gap": null,
            "grid_row": null,
            "grid_template_areas": null,
            "grid_template_columns": null,
            "grid_template_rows": null,
            "height": null,
            "justify_content": null,
            "justify_items": null,
            "left": null,
            "margin": null,
            "max_height": null,
            "max_width": null,
            "min_height": null,
            "min_width": null,
            "object_fit": null,
            "object_position": null,
            "order": null,
            "overflow": null,
            "overflow_x": null,
            "overflow_y": null,
            "padding": null,
            "right": null,
            "top": null,
            "visibility": null,
            "width": null
          }
        },
        "87a32ceb166f49d7815e6193edf3286a": {
          "model_module": "@jupyter-widgets/controls",
          "model_name": "DescriptionStyleModel",
          "model_module_version": "1.5.0",
          "state": {
            "_model_module": "@jupyter-widgets/controls",
            "_model_module_version": "1.5.0",
            "_model_name": "DescriptionStyleModel",
            "_view_count": null,
            "_view_module": "@jupyter-widgets/base",
            "_view_module_version": "1.2.0",
            "_view_name": "StyleView",
            "description_width": ""
          }
        }
      }
    }
  },
  "cells": [
    {
      "cell_type": "markdown",
      "metadata": {
        "id": "view-in-github",
        "colab_type": "text"
      },
      "source": [
        "<a href=\"https://colab.research.google.com/github/ProgrammerDavid1/Data-Analysis/blob/main/Python%20Basic%20Theory%20.ipynb\" target=\"_parent\"><img src=\"https://colab.research.google.com/assets/colab-badge.svg\" alt=\"Open In Colab\"/></a>"
      ]
    },
    {
      "cell_type": "markdown",
      "source": [
        "# 기계학습 2주차 실습"
      ],
      "metadata": {
        "id": "83k2WbS4rROf"
      }
    },
    {
      "cell_type": "markdown",
      "source": [
        "## 실습 시작 전 유의사항\n",
        "\n",
        "※ 반드시 상단 메뉴에서 '**파일 - 드라이브에 사본 저장**' 진행 후 시작하세요."
      ],
      "metadata": {
        "id": "1CXfTaxCFmvA"
      }
    },
    {
      "cell_type": "markdown",
      "source": [
        "---"
      ],
      "metadata": {
        "id": "fBW5t6eiFqLF"
      }
    },
    {
      "cell_type": "markdown",
      "source": [
        "## 1. 구글 Colab의 기초 사용법\n",
        "\n",
        "Colab은 원하는 부분만 따로따로 실행이 가능하고 즉각적으로 그 피드백을 받을 수 있는 대화형 환경입니다.\n",
        "\n",
        "아래에 이어지는 스텝을 따라가세요."
      ],
      "metadata": {
        "id": "ph7fqixtFhki"
      }
    },
    {
      "cell_type": "markdown",
      "source": [
        "### 셀에 대한 이해"
      ],
      "metadata": {
        "id": "BTFbo__Nubkk"
      }
    },
    {
      "cell_type": "markdown",
      "source": [
        "- 코랩은 프로젝트를 여러 개의 셀로 구성하여 관리할 수 있게 해줍니다.\\\n",
        "셀은 **텍스트 셀**, **코드 셀** 두 종류로 이뤄져 있습니다.\\\n",
        "지금 이 글이 적힌 셀이 텍스트 셀에 해당합니다.\\\n",
        "이 셀을 더블클릭해서 에디터를 연 뒤, 본인 학번과 이름을 입력해보세요.\n",
        "\n",
        "> 학번: 202114497\n",
        ">\n",
        "> 이름: 박준석"
      ],
      "metadata": {
        "id": "NF9FLpEYuPbb"
      }
    },
    {
      "cell_type": "markdown",
      "source": [
        "- 다음으로는 **코드 셀**을 생성해보고 아래와 같은 코드를 복사해 넣어보세요.\n",
        "\n",
        "```\n",
        "# 이 부분을 복사하세요\n",
        "print(\"Hello, Colab!\")\n",
        "```"
      ],
      "metadata": {
        "id": "w-FBaLdDuETM"
      }
    },
    {
      "cell_type": "code",
      "source": [],
      "metadata": {
        "id": "K-Em0wtK6PWV"
      },
      "execution_count": null,
      "outputs": []
    },
    {
      "cell_type": "markdown",
      "source": [
        "`이 셀을 선택하거나, 이 셀 밑 부분에 마우스를 올린 후, [+ 코드] 버튼을 눌러보세요.`"
      ],
      "metadata": {
        "id": "rnO9X71UtwdC"
      }
    },
    {
      "cell_type": "code",
      "source": [
        "print(\"Hello, Colab!\")"
      ],
      "metadata": {
        "colab": {
          "base_uri": "https://localhost:8080/"
        },
        "id": "harc6tb56Rk8",
        "outputId": "382eab14-a7d8-40cb-f7a0-eb2a74da634a"
      },
      "execution_count": null,
      "outputs": [
        {
          "output_type": "stream",
          "name": "stdout",
          "text": [
            "Hello, Colab!\n"
          ]
        }
      ]
    },
    {
      "cell_type": "markdown",
      "source": [
        "---"
      ],
      "metadata": {
        "id": "dWUzDiLlr3wX"
      }
    },
    {
      "cell_type": "markdown",
      "source": [
        "### 코랩의 코드 동작에 대한 이해"
      ],
      "metadata": {
        "id": "tMi1sfjFui4H"
      }
    },
    {
      "cell_type": "markdown",
      "source": [
        "- 모든 코드 셀은 **따로 따로** 실행할 수 있습니다.\\\n",
        "코드 셀에 마우스를 올리면 왼쪽에 생기는 ▶ 버튼으로 코드를 실행할 수 있습니다.\\\n",
        "또는 선택한 셀을 **`Shift + Enter`** / **`Ctrl + Enter`** 하여 실행 할 수도 있습니다.\n",
        "\n",
        "- 아래 두 셀을 실행해봅시다."
      ],
      "metadata": {
        "id": "lDzSqqEQtGlF"
      }
    },
    {
      "cell_type": "code",
      "source": [
        "a = 0       # Shift + Enter는 실행 후 다음 셀로 이동"
      ],
      "metadata": {
        "id": "O1PRpZovVVay"
      },
      "execution_count": null,
      "outputs": []
    },
    {
      "cell_type": "code",
      "source": [
        "print(a)    # Ctrl + Enter는 실행 후 이동 X"
      ],
      "metadata": {
        "id": "4fBbKPalVWDU",
        "colab": {
          "base_uri": "https://localhost:8080/"
        },
        "outputId": "cae73718-9757-4205-cdb8-34e84b510f85"
      },
      "execution_count": null,
      "outputs": [
        {
          "output_type": "stream",
          "name": "stdout",
          "text": [
            "0\n"
          ]
        }
      ]
    },
    {
      "cell_type": "markdown",
      "source": [
        "- 오래 실행 중인 셀은 같은 위치의 ■ 버튼으로 종료 할 수 있습니다.\n",
        "\n",
        "- 아래 셀을 실행해보고 종료해보세요."
      ],
      "metadata": {
        "id": "0QvEo2MWgjP4"
      }
    },
    {
      "cell_type": "code",
      "source": [
        "from tqdm.notebook import tqdm  # Colab에서 사용하기 위해 notebook 모듈 사용\n",
        "import time\n",
        "\n",
        "try:\n",
        "    with tqdm(total=10, desc=\"무한 반복 중... \", ncols=500, leave=False) as pbar:\n",
        "        while True:\n",
        "            for _ in range(10):\n",
        "                time.sleep(0.1)\n",
        "                pbar.update(1)\n",
        "\n",
        "            pbar.n = 0\n",
        "            pbar.last_print_n = 0\n",
        "            pbar.refresh()\n",
        "except KeyboardInterrupt:\n",
        "    print(\"\\n코드 종료 됨\")\n"
      ],
      "metadata": {
        "id": "X-D7j588h8kd",
        "colab": {
          "base_uri": "https://localhost:8080/",
          "height": 86,
          "referenced_widgets": [
            "540d634963164e68b28400d50dfd876d",
            "919f2e6751b8404d8638808a8f17e4b4",
            "449003c5cfae47d28839b169c20492b6",
            "babd012f376a4d82a73d604680adc315",
            "10b8a3c85a0e4e2a8194a5fca4b4f397",
            "6182ce1953114f849701c11a8acd89bb",
            "c8348f53ea374d6ea6d937918694c437",
            "08b4ff91a35e401d97626456f004816c",
            "6cd848b1e98f4766a63730a32aec8f1d",
            "31b8de4097c54d55bda16b32832e7811",
            "87a32ceb166f49d7815e6193edf3286a"
          ]
        },
        "outputId": "24ead9ef-17ff-472c-cc66-f1911c63a2d7"
      },
      "execution_count": null,
      "outputs": [
        {
          "output_type": "display_data",
          "data": {
            "text/plain": [
              "무한 반복 중... :   0%|                                                                                            …"
            ],
            "application/vnd.jupyter.widget-view+json": {
              "version_major": 2,
              "version_minor": 0,
              "model_id": "540d634963164e68b28400d50dfd876d"
            }
          },
          "metadata": {}
        },
        {
          "output_type": "stream",
          "name": "stdout",
          "text": [
            "\n",
            "코드 종료 됨\n"
          ]
        }
      ]
    },
    {
      "cell_type": "markdown",
      "source": [
        "- 코랩은 일반 코드와 다르게, 셀들이 **위에서부터 순서대로 실행되지 않습니다.**\\\n",
        "모두 독자적으로 실행되기 때문에 실행된 순서대로 정보가 쌓입니다.\\\n",
        "이를 이해하기 위해 아래의 코드를 여러 번 실행해봅시다."
      ],
      "metadata": {
        "id": "3iHt5Zjcai6x"
      }
    },
    {
      "cell_type": "code",
      "source": [
        "a += 3\n",
        "print(a)"
      ],
      "metadata": {
        "id": "EqMYaBjWrz4n",
        "colab": {
          "base_uri": "https://localhost:8080/"
        },
        "outputId": "6d49b026-4d13-41f2-b108-de1bd25de94d"
      },
      "execution_count": null,
      "outputs": [
        {
          "output_type": "stream",
          "name": "stdout",
          "text": [
            "6\n"
          ]
        }
      ]
    },
    {
      "cell_type": "markdown",
      "source": [
        "- 이런 이유로 실행 순서가 꼬여 예상하지 않은 결과가 나오는 경우가 자주 생깁니다.\\\n",
        "그럴 경우에는 상단 메뉴 중 **'런타임 - 세션 다시 시작 및 모두 실행'**으로 쌓인 정보를 모두 지우고 차례대로 다시 실행할 수 있습니다."
      ],
      "metadata": {
        "id": "jWwqCDD7eMC_"
      }
    },
    {
      "cell_type": "markdown",
      "source": [
        "---"
      ],
      "metadata": {
        "id": "_RdZJPMvvvFd"
      }
    },
    {
      "cell_type": "markdown",
      "source": [
        "- 코랩에서는 작년부터 **Colab AI**를 지원하기 시작했습니다.\\\n",
        "자동으로 코드를 작성해주는 편리한 기능이지만,\\\n",
        " **실습 시험** 중에는 Colab AI 기능을 사용할 수 없기에 끄는 방법을 미리 알려드리겠습니다.\\\n",
        "<img src=\"https://i-cubic-i.notion.site/image/https%3A%2F%2Fprod-files-secure.s3.us-west-2.amazonaws.com%2F725049b7-a462-4874-83d3-8d8fc3092f85%2F0bc77a2a-7ebb-4858-a4f6-c828b289eb08%2FUntitled.png?table=block&id=16d5790a-52b6-48e1-8dba-191461ee1ace&spaceId=725049b7-a462-4874-83d3-8d8fc3092f85&width=2000\" width=450>\\\n",
        "우측 위 톱니바퀴 모양의 설정에서 **`AI 지원`**을 찾으세요.\\\n",
        "그 후 오른쪽 **`생성형 AI 숨기기`** 체크박스를 활성화하시면 됩니다."
      ],
      "metadata": {
        "id": "odNDxKm_wIJu"
      }
    },
    {
      "cell_type": "markdown",
      "source": [
        "---"
      ],
      "metadata": {
        "id": "DqEy5ZMxwtS4"
      }
    },
    {
      "cell_type": "markdown",
      "source": [
        "## 2. 함수와 매개변수"
      ],
      "metadata": {
        "id": "fzF1XTYgwt6g"
      }
    },
    {
      "cell_type": "markdown",
      "source": [
        "함수는 특정 목적의 작업 수행을 위해 독립적으로 설계된 코드의 집합입니다.\n",
        "\n",
        "def 라는 키워드로 함수를 정의할 수 있습니다.\n",
        "\n",
        "함수의 내부에는 다양한 코드를 작성할 수 있습니다."
      ],
      "metadata": {
        "id": "60H8smT192xB"
      }
    },
    {
      "cell_type": "code",
      "source": [
        "def f():\n",
        "  inside = 20\n",
        "  inside = inside + 5\n",
        "  inside *= 4\n",
        "\n",
        "  print(\"f 함수가 실행 됨.\")\n",
        "  print(\"inside =\", inside)"
      ],
      "metadata": {
        "id": "csfxpppXGJUV"
      },
      "execution_count": null,
      "outputs": []
    },
    {
      "cell_type": "markdown",
      "source": [
        "함수의 이름과 괄호를 함께 작성하면 그 함수를 호출할 수 있습니다."
      ],
      "metadata": {
        "id": "fylCLpCt-GqF"
      }
    },
    {
      "cell_type": "code",
      "source": [
        "f()"
      ],
      "metadata": {
        "id": "b-7xbxqU1ncQ",
        "colab": {
          "base_uri": "https://localhost:8080/"
        },
        "outputId": "942bbc65-a48d-4ac0-d411-f589091368d4"
      },
      "execution_count": null,
      "outputs": [
        {
          "output_type": "stream",
          "name": "stdout",
          "text": [
            "f 함수가 실행 됨.\n",
            "inside = 100\n"
          ]
        }
      ]
    },
    {
      "cell_type": "markdown",
      "source": [
        "함수 내부에서 만든 변수는 해당 함수 내에서만 사용할 수 있습니다.\n",
        "\n",
        "반대로 함수 외부의 변수를 함수 내에서 사용하는건 가능합니다.\n",
        "\n",
        "<font size=\"2\" color=\"gray\">이런 변수의 유효 범위(scope)를 조절하기 위해서 global이나 nonlocal 같은 키워드를 사용할 수는 있지만 여기서는 다루지 않겠습니다.</font>"
      ],
      "metadata": {
        "id": "tAAPJ4ql_Nqm"
      }
    },
    {
      "cell_type": "code",
      "source": [
        "print(\"inside =\", inside)"
      ],
      "metadata": {
        "id": "wK6Ko6NG9f89",
        "colab": {
          "base_uri": "https://localhost:8080/",
          "height": 149
        },
        "outputId": "c334ec62-a66a-4628-ddd2-35c8965c44fe"
      },
      "execution_count": null,
      "outputs": [
        {
          "output_type": "error",
          "ename": "NameError",
          "evalue": "name 'inside' is not defined",
          "traceback": [
            "\u001b[0;31m---------------------------------------------------------------------------\u001b[0m",
            "\u001b[0;31mNameError\u001b[0m                                 Traceback (most recent call last)",
            "\u001b[0;32m<ipython-input-8-2792b6d66cd5>\u001b[0m in \u001b[0;36m<cell line: 1>\u001b[0;34m()\u001b[0m\n\u001b[0;32m----> 1\u001b[0;31m \u001b[0mprint\u001b[0m\u001b[0;34m(\u001b[0m\u001b[0;34m\"inside =\"\u001b[0m\u001b[0;34m,\u001b[0m \u001b[0minside\u001b[0m\u001b[0;34m)\u001b[0m\u001b[0;34m\u001b[0m\u001b[0;34m\u001b[0m\u001b[0m\n\u001b[0m",
            "\u001b[0;31mNameError\u001b[0m: name 'inside' is not defined"
          ]
        }
      ]
    },
    {
      "cell_type": "markdown",
      "source": [
        "함수가 어떤 결과를 반환하게 만들기 위해 return 키워드를 사용할 수 있습니다."
      ],
      "metadata": {
        "id": "aR5VOkbA1wzT"
      }
    },
    {
      "cell_type": "code",
      "source": [
        "def g():\n",
        "  return \"g 함수의 결과\""
      ],
      "metadata": {
        "id": "hib0JLxA1xAW"
      },
      "execution_count": null,
      "outputs": []
    },
    {
      "cell_type": "code",
      "source": [
        "result = g()\n",
        "\n",
        "print(result)"
      ],
      "metadata": {
        "id": "hmVDfLG911qH",
        "colab": {
          "base_uri": "https://localhost:8080/"
        },
        "outputId": "8397149e-4860-4161-dbfb-887d854693c1"
      },
      "execution_count": null,
      "outputs": [
        {
          "output_type": "stream",
          "name": "stdout",
          "text": [
            "g 함수의 결과\n"
          ]
        }
      ]
    },
    {
      "cell_type": "markdown",
      "source": [
        "반대로 함수에 어떤 값을 전달하기 위해서는 매개변수를 사용할 수 있습니다.\n",
        "\n",
        "함수의 정의에서 매개변수에 **`=`**을 사용하면 기본값(default)을 정할 수도 있습니다.\n",
        "\n",
        "함수의 호출에서 **`=`**을 사용하면 키워드로 원하는 변수를 지정할 수도 있습니다."
      ],
      "metadata": {
        "id": "8o16HxWs3N7m"
      }
    },
    {
      "cell_type": "code",
      "source": [
        "def h(x, y=0):\n",
        "  return 100 * x + y\n",
        "\n",
        "# x: 12, y: 34\n",
        "result1 = h(12, 34)\n",
        "print(\"result1 =\", result1)\n",
        "print()\n",
        "\n",
        "# y는 기본값을 사용\n",
        "result2 = h(12)\n",
        "print(\"result2 =\", result2)\n",
        "print()\n",
        "\n",
        "# y: 12, x: 34\n",
        "result3 = h(y=12, x=34)\n",
        "print(\"result3 =\", result3)"
      ],
      "metadata": {
        "id": "qXzze0Ur3NHD",
        "colab": {
          "base_uri": "https://localhost:8080/"
        },
        "outputId": "69746663-d917-4458-e9a0-85b14535b7b7"
      },
      "execution_count": null,
      "outputs": [
        {
          "output_type": "stream",
          "name": "stdout",
          "text": [
            "result1 = 1234\n",
            "\n",
            "result2 = 1200\n",
            "\n",
            "result3 = 3412\n"
          ]
        }
      ]
    },
    {
      "cell_type": "markdown",
      "source": [
        "매개변수의 개수는 다양하게 정의할 수 있지만,\\\n",
        "매개변수의 개수가 몇 개가 들어올 지 모르는 경우, **가변 매개변수**를 사용할 수 있습니다.\n",
        "\n",
        "`*`가 붙은 **가변 매개변수**는 다양한 개수의 값을 받아 올 수 있습니다."
      ],
      "metadata": {
        "id": "OT-eyBwTDdkw"
      }
    },
    {
      "cell_type": "code",
      "source": [
        "def filter_data(min_value, *data):\n",
        "  print(\"기준:\", min_value)\n",
        "  print(\"원본 데이터:\", data)\n",
        "\n",
        "  result = []\n",
        "  for x in data:\n",
        "    if x >= min_value:\n",
        "      result.append(x)\n",
        "\n",
        "  return result\n",
        "\n",
        "\n",
        "filtered1 = filter_data(0, 1, -3, 5, 2, -9)\n",
        "print(\"filtered1:\", filtered1)\n",
        "print()\n",
        "\n",
        "filtered2 = filter_data(10, 18, 6, 12)\n",
        "print(\"filtered2:\", filtered2)"
      ],
      "metadata": {
        "id": "rQ7SismEF_uA",
        "colab": {
          "base_uri": "https://localhost:8080/"
        },
        "outputId": "82c29e90-291f-4344-d175-161ba8bc2d77"
      },
      "execution_count": null,
      "outputs": [
        {
          "output_type": "stream",
          "name": "stdout",
          "text": [
            "기준: 0\n",
            "원본 데이터: (1, -3, 5, 2, -9)\n",
            "filtered1: [1, 5, 2]\n",
            "\n",
            "기준: 10\n",
            "원본 데이터: (18, 6, 12)\n",
            "filtered2: [18, 12]\n"
          ]
        }
      ]
    },
    {
      "cell_type": "markdown",
      "source": [
        "가변 매개변수 각각에 변수 이름을 지어줄 수 있습니다.\n",
        "\n",
        "`**`가 붙은 **가변 키워드 매개변수**는 여러 매개변수를 키워드로 전달할 수 있습니다."
      ],
      "metadata": {
        "id": "YpiXW95bOSDz"
      }
    },
    {
      "cell_type": "code",
      "source": [
        "def keyword(**kwargs):\n",
        "  print(\"kwargs의 내용\")\n",
        "  for key, value in kwargs.items():\n",
        "    print(f\"{key}: {value}\")\n",
        "  print()\n",
        "\n",
        "\n",
        "keyword(color=[\"green\", \"red\"], kind=\"apple\")\n",
        "\n",
        "keyword(year=2024, month=\"september\", day=[10, 11])"
      ],
      "metadata": {
        "id": "UhNAdVhNQdE5",
        "colab": {
          "base_uri": "https://localhost:8080/"
        },
        "outputId": "8105f25c-8775-4664-c08d-7e3a111c1f58"
      },
      "execution_count": null,
      "outputs": [
        {
          "output_type": "stream",
          "name": "stdout",
          "text": [
            "kwargs의 내용\n",
            "color: ['green', 'red']\n",
            "kind: apple\n",
            "\n",
            "kwargs의 내용\n",
            "year: 2024\n",
            "month: september\n",
            "day: [10, 11]\n",
            "\n"
          ]
        }
      ]
    },
    {
      "cell_type": "markdown",
      "source": [
        "## 3. 클래스와 객체"
      ],
      "metadata": {
        "id": "q6mcJE1dTxq8"
      }
    },
    {
      "cell_type": "markdown",
      "source": [
        "클래스는 속성과 행위를 변수와 메소드로 정의한 논리적 개념이고,\n",
        "\n",
        "인스턴스는 정의된 클래스를 기반으로 실제 메모리에 할당된 물리적 실체입니다.\n",
        "\n",
        "간단하게 설계도와 실제 제품이라고 생각할 수 있습니다.\n",
        "\n",
        "class 라는 키워드로 클래스를 정의하고\\\n",
        "클래스의 이름에 괄호를 붙이면 그 클래스의 인스턴스를 생성할 수 있습니다.\n",
        "\n",
        "클래스 내부에는 변수나 메소드가 포함될 수 있습니다.\n",
        "\n",
        "인스턴스의 변수는 객체에 `.`을 붙여서 접근할 수 있습니다.\n",
        "\n",
        "이 때, 앞에 `__`가 붙은 변수는 private 타입으로, 클래스 내부에서만 사용할 수 있습니다."
      ],
      "metadata": {
        "id": "7pDl0F_bUTh0"
      }
    },
    {
      "cell_type": "markdown",
      "source": [],
      "metadata": {
        "id": "vUJ93ymY8k81"
      }
    },
    {
      "cell_type": "markdown",
      "source": [
        "객체가 생성될 때 어떤 코드를 실행하고 싶다면 **생성자**를 정의할 수 있습니다.\n",
        "\n",
        "생성자는 주로 객체의 변수를 초기화하는 역할을 합니다.\n",
        "\n",
        "생성자를 만드려면 `__init__`라는 함수를 클래스 내부에 정의하면 됩니다.\n",
        "\n",
        "매개변수의 self는 그 메소드가 인스턴스 메소드임을 의미합니다.\n",
        "\n",
        "self로 현재 인스턴스의 변수나 메소드에 접근할 수 있습니다."
      ],
      "metadata": {
        "id": "ol0Vy1avbnmn"
      }
    },
    {
      "cell_type": "code",
      "source": [
        "class ClassB:\n",
        "  def __init__(self, x):\n",
        "    print(\"ClassB 객체 생성\")\n",
        "    self.var = x\n",
        "\n",
        "b = ClassB(5)\n",
        "\n",
        "print(\"b의 var 변수:\", b.var)"
      ],
      "metadata": {
        "id": "l3N7phB5dZlB",
        "colab": {
          "base_uri": "https://localhost:8080/"
        },
        "outputId": "c59f75a6-438c-43f1-b6a2-e30eece2cf81"
      },
      "execution_count": null,
      "outputs": [
        {
          "output_type": "stream",
          "name": "stdout",
          "text": [
            "ClassB 객체 생성\n",
            "b의 var 변수: 5\n"
          ]
        }
      ]
    },
    {
      "cell_type": "code",
      "source": [
        "# 클래스 정의\n",
        "class ClassA:\n",
        "  var = 10\n",
        "  __secret = 20    # private 변수\n",
        "\n",
        "# 인스턴스 생성\n",
        "a = ClassA()\n",
        "\n",
        "# 객체의 인스턴스 변수에 접근\n",
        "print(\"a의 var 변수:\", a.var)\n",
        "print(\"a의 private 변수:\", a.__secret)"
      ],
      "metadata": {
        "id": "3EILGYsIZ2sj",
        "colab": {
          "base_uri": "https://localhost:8080/",
          "height": 205
        },
        "outputId": "24319ffb-b2c8-46fc-9779-3d8c836bb738"
      },
      "execution_count": null,
      "outputs": [
        {
          "output_type": "stream",
          "name": "stdout",
          "text": [
            "a의 var 변수: 10\n"
          ]
        },
        {
          "output_type": "error",
          "ename": "AttributeError",
          "evalue": "'ClassA' object has no attribute '__secret'",
          "traceback": [
            "\u001b[0;31m---------------------------------------------------------------------------\u001b[0m",
            "\u001b[0;31mAttributeError\u001b[0m                            Traceback (most recent call last)",
            "\u001b[0;32m<ipython-input-14-af91fb3dfe5a>\u001b[0m in \u001b[0;36m<cell line: 11>\u001b[0;34m()\u001b[0m\n\u001b[1;32m      9\u001b[0m \u001b[0;31m# 객체의 인스턴스 변수에 접근\u001b[0m\u001b[0;34m\u001b[0m\u001b[0;34m\u001b[0m\u001b[0m\n\u001b[1;32m     10\u001b[0m \u001b[0mprint\u001b[0m\u001b[0;34m(\u001b[0m\u001b[0;34m\"a의 var 변수:\"\u001b[0m\u001b[0;34m,\u001b[0m \u001b[0ma\u001b[0m\u001b[0;34m.\u001b[0m\u001b[0mvar\u001b[0m\u001b[0;34m)\u001b[0m\u001b[0;34m\u001b[0m\u001b[0;34m\u001b[0m\u001b[0m\n\u001b[0;32m---> 11\u001b[0;31m \u001b[0mprint\u001b[0m\u001b[0;34m(\u001b[0m\u001b[0;34m\"a의 private 변수:\"\u001b[0m\u001b[0;34m,\u001b[0m \u001b[0ma\u001b[0m\u001b[0;34m.\u001b[0m\u001b[0m__secret\u001b[0m\u001b[0;34m)\u001b[0m\u001b[0;34m\u001b[0m\u001b[0;34m\u001b[0m\u001b[0m\n\u001b[0m",
            "\u001b[0;31mAttributeError\u001b[0m: 'ClassA' object has no attribute '__secret'"
          ]
        }
      ]
    },
    {
      "cell_type": "markdown",
      "source": [
        "클래스의 상속성과 다형성을 알아보겠습니다.\n",
        "\n",
        "기존에 정의된 클래스를 상속하여 새로운 클래스를 만들 수 있습니다.\n",
        "\n",
        "이러면 부모 클래스의 변수와 메소드를 모두 상속하기 때문에\\\n",
        "중복된 코드를 다시 쓰지 않아도 되는 장점이 있습니다.\n",
        "\n",
        "또한, 부모 클래스와 차이점을 두기 위해\\\n",
        "새로운 변수를 만들거나 이미 있는 메소드를 재정의할 수도 있습니다.\n",
        "\n",
        "이 때, super() 메소드는 부모 클래스에 접근할 때 사용합니다."
      ],
      "metadata": {
        "id": "MbgpdBoCNIqj"
      }
    },
    {
      "cell_type": "code",
      "source": [
        "class Book:\n",
        "  def __init__(self, title, author):\n",
        "    self.title = title\n",
        "    self.author = author\n",
        "    print(f\"Book 인스턴스 생성됨. 제목: {title}, 저자: {author}\")\n",
        "\n",
        "  def read(self):\n",
        "    print(f\"{self.title}의 내용을 읽었습니다.\")\n",
        "\n",
        "  def rent(self):\n",
        "    print(\"도서관에서 책을 빌렸습니다.\")\n",
        "\n",
        "\n",
        "class eBook(Book):\n",
        "  def __init__(self, title, author, size):\n",
        "    # self.title = title\n",
        "    # self.author = author\n",
        "    super().__init__(title, author)\n",
        "    self.size = size\n",
        "    print(f\"eBook 인스턴스 생성됨. 크기: {size}MB\")\n",
        "\n",
        "  # read 메소드는 상속함.\n",
        "\n",
        "  # rent 메소드는 재정의함.\n",
        "  def rent(self):\n",
        "    print(\"도서관 홈페이지에서 책을 빌렸습니다.\")"
      ],
      "metadata": {
        "id": "fbNDYGMhTxX7"
      },
      "execution_count": null,
      "outputs": []
    },
    {
      "cell_type": "code",
      "source": [
        "book1 = Book(\"모두의 딥러닝\", \"조태호\")\n",
        "book1.rent()\n",
        "book1.read()"
      ],
      "metadata": {
        "id": "i-sF4HBwLh2c",
        "colab": {
          "base_uri": "https://localhost:8080/"
        },
        "outputId": "caffb176-7a06-4785-83fc-db9b4b0ba386"
      },
      "execution_count": null,
      "outputs": [
        {
          "output_type": "stream",
          "name": "stdout",
          "text": [
            "Book 인스턴스 생성됨. 제목: 모두의 딥러닝, 저자: 조태호\n",
            "도서관에서 책을 빌렸습니다.\n",
            "모두의 딥러닝의 내용을 읽었습니다.\n"
          ]
        }
      ]
    },
    {
      "cell_type": "code",
      "source": [
        "book2 = eBook(\"혼자 공부하는 파이썬\", \"윤인성\", 14.78)\n",
        "book2.rent()\n",
        "book2.read()"
      ],
      "metadata": {
        "id": "LkrN8-SLMAJg",
        "colab": {
          "base_uri": "https://localhost:8080/"
        },
        "outputId": "413beb3c-2998-4267-e14f-e5f17073d36d"
      },
      "execution_count": null,
      "outputs": [
        {
          "output_type": "stream",
          "name": "stdout",
          "text": [
            "Book 인스턴스 생성됨. 제목: 혼자 공부하는 파이썬, 저자: 윤인성\n",
            "eBook 인스턴스 생성됨. 크기: 14.78MB\n",
            "도서관 홈페이지에서 책을 빌렸습니다.\n",
            "혼자 공부하는 파이썬의 내용을 읽었습니다.\n"
          ]
        }
      ]
    },
    {
      "cell_type": "markdown",
      "source": [
        "---"
      ],
      "metadata": {
        "id": "ep0OzE43T1MC"
      }
    },
    {
      "cell_type": "markdown",
      "source": [
        "## 실습 종료 전 유의사항\n",
        "\n",
        "※ 완료 시 우측 상단 프로필 옆 '**공유 - 액세스를 *링크가 있는 모든 사용자*로 전환**' 후 복사한 링크를 이루리 과제 란에 업로드 하세요.\n",
        "\n",
        "<img src=\"https://i-cubic-i.notion.site/image/https%3A%2F%2Fprod-files-secure.s3.us-west-2.amazonaws.com%2F725049b7-a462-4874-83d3-8d8fc3092f85%2F9e740721-91aa-4643-aeb1-e6c29aa7ff1f%2F%25EC%2595%25A1%25EC%2584%25B8%25EC%258A%25A4_%25EC%2584%25A4%25EC%25A0%2595.png?table=block&id=503f4d91-92ad-4768-a049-e7e926ef5871&spaceId=725049b7-a462-4874-83d3-8d8fc3092f85&width=1030\" height=300>\n",
        "\n",
        "</br>\n",
        "\n",
        "※ 추가로 상단 메뉴 '**파일 - 다운로드 - .ipynb**' 로 다운로드 후 첨부 파일로 업로드 하세요.\n",
        "\n",
        "※ 즉, 과제의 텍스트란에는 링크를, 파일 첨부란에는 .ipynb 파일을 제출하십시오."
      ],
      "metadata": {
        "id": "spCFPqfKNFwR"
      }
    }
  ]
}